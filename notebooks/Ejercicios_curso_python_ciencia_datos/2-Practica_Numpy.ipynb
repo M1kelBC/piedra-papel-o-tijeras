{
  "cells": [
    {
      "cell_type": "markdown",
      "metadata": {
        "id": "7pwPENtAetxH"
      },
      "source": [
        "# [PRACTICA DE NUMPY](https://joserzapata.github.io/courses/python-ciencia-datos/numpy/)\n",
        "## [Curso Python para Ciencia de datos](https://joserzapata.github.io/courses/python-ciencia-datos/)\n",
        "### Por Jose R. Zapata - https://joserzapata.github.io/"
      ]
    },
    {
      "cell_type": "markdown",
      "metadata": {
        "id": "lB0sLj3IetxJ"
      },
      "source": [
        "<div class=\"alert alert-success\">\n",
        "\n",
        "<b>NOTA:</b> Realizar Primero los ejercicios y luego revisar las soluciones propuestas.\n",
        "\n",
        "[Solucion Ejercicios Numpy - click para abrir](https://joserzapata.github.io/courses/python-ciencia-datos/numpy/2-practica_numpy-solucion/)\n",
        "\n",
        "</div>"
      ]
    },
    {
      "cell_type": "markdown",
      "metadata": {
        "id": "5BsADvGhetxL"
      },
      "source": [
        "Los arreglos de numpy son la base de la computación científica en Python\n",
        "- los dataframes de pandas para análisis de datos (Numpy era la unica base hasta pandas 1.5.3)\n",
        "- los datos de entrada o salida para hacer Machine Learning con scikit-learn son arreglos de numpy\n",
        "\n",
        "**Nota:** Es importante familiarizarse con el manejo de arreglos de numpy para poder hacer ciencia de datos con Python e identificar cuando usar un arreglo de numpy o un dataframe de pandas."
      ]
    },
    {
      "cell_type": "markdown",
      "metadata": {
        "id": "hGiOKPz_etxL"
      },
      "source": [
        "**Importe NumPy como np**"
      ]
    },
    {
      "cell_type": "code",
      "execution_count": 1,
      "metadata": {
        "collapsed": true,
        "colab": {
          "base_uri": "https://localhost:8080/"
        },
        "id": "Ht3N2nz-etxM",
        "outputId": "b4deea06-7b19-441e-9ba1-9cf29bf654d4"
      },
      "outputs": [
        {
          "output_type": "stream",
          "name": "stdout",
          "text": [
            "Media: -0.000\n",
            "Máximo: 1.000\n",
            "Mínimo: -1.000\n",
            "Valores positivos: 49\n",
            "Producto:\n",
            "[[19 22]\n",
            " [43 50]]\n",
            "Determinante de A: -2.0000000000000004\n"
          ]
        }
      ],
      "source": [
        "import numpy as np\n",
        "\n",
        "# Crear datos sintéticos\n",
        "x = np.linspace(0, 2*np.pi, 100)\n",
        "y = np.sin(x)\n",
        "\n",
        "# Operaciones estadísticas\n",
        "media = np.mean(y)\n",
        "maximo = np.max(y)\n",
        "minimo = np.min(y)\n",
        "\n",
        "print(f\"Media: {media:.3f}\")\n",
        "print(f\"Máximo: {maximo:.3f}\")\n",
        "print(f\"Mínimo: {minimo:.3f}\")\n",
        "\n",
        "# Filtrar datos\n",
        "y_positivos = y[y > 0]\n",
        "print(f\"Valores positivos: {len(y_positivos)}\")\n",
        "\n",
        "# Álgebra lineal\n",
        "A = np.array([[1, 2], [3, 4]])\n",
        "B = np.array([[5, 6], [7, 8]])\n",
        "\n",
        "producto = np.dot(A, B)\n",
        "determinante = np.linalg.det(A)\n",
        "\n",
        "print(f\"Producto:\\n{producto}\")\n",
        "print(f\"Determinante de A: {determinante}\")"
      ]
    },
    {
      "cell_type": "markdown",
      "metadata": {
        "id": "im1E--TbetxM"
      },
      "source": [
        "**Cree un arreglo de ceros de 10 elementos**"
      ]
    },
    {
      "cell_type": "code",
      "execution_count": 6,
      "metadata": {
        "colab": {
          "base_uri": "https://localhost:8080/"
        },
        "id": "4bu6d_FbetxS",
        "outputId": "43cd51fa-32b3-4496-a199-0862865897b6"
      },
      "outputs": [
        {
          "output_type": "stream",
          "name": "stdout",
          "text": [
            "[0. 0. 0. 0. 0. 0. 0. 0. 0. 0.]\n",
            "[0 0 0 0 0 0 0 0 0 0]\n"
          ]
        }
      ],
      "source": [
        "import numpy as np\n",
        "\n",
        "# Con numpy.zeros()\n",
        "arreglo_numpy = np.zeros(10)\n",
        "print(arreglo_numpy)\n",
        "# Resultado: [0. 0. 0. 0. 0. 0. 0. 0. 0. 0.]\n",
        "\n",
        "# Para enteros en lugar de floats\n",
        "arreglo_numpy_int = np.zeros(10, dtype=int)\n",
        "print(arreglo_numpy_int)\n",
        "# Resultado: [0 0 0 0 0 0 0 0 0 0]"
      ]
    },
    {
      "cell_type": "markdown",
      "metadata": {
        "id": "vPb_vnu8etxS"
      },
      "source": [
        "**Cree un arreglo de cincos de 10 elementos**"
      ]
    },
    {
      "cell_type": "code",
      "execution_count": 7,
      "metadata": {
        "colab": {
          "base_uri": "https://localhost:8080/"
        },
        "id": "sP8YtjgIetxT",
        "outputId": "b8eb4b92-578d-452d-9e49-9b933b6790df"
      },
      "outputs": [
        {
          "output_type": "stream",
          "name": "stdout",
          "text": [
            "[5, 5, 5, 5, 5, 5, 5, 5, 5, 5]\n"
          ]
        }
      ],
      "source": [
        "arreglo_cincos = [5] * 10\n",
        "print(arreglo_cincos)  # [5, 5, 5, 5, 5, 5, 5, 5, 5, 5]"
      ]
    },
    {
      "cell_type": "markdown",
      "metadata": {
        "id": "p4FBH5Q8etxT"
      },
      "source": [
        "**Cree un arreglo de números enteros Del 10 al 50 (incluido)**"
      ]
    },
    {
      "cell_type": "code",
      "execution_count": 4,
      "metadata": {
        "colab": {
          "base_uri": "https://localhost:8080/"
        },
        "id": "GlNB7ie_etxU",
        "outputId": "ca63b34c-5ede-494d-aeb1-ebc710568b0c"
      },
      "outputs": [
        {
          "output_type": "stream",
          "name": "stdout",
          "text": [
            "[10, 11, 12, 13, 14, 15, 16, 17, 18, 19, 20, 21, 22, 23, 24, 25, 26, 27, 28, 29, 30, 31, 32, 33, 34, 35, 36, 37, 38, 39, 40, 41, 42, 43, 44, 45, 46, 47, 48, 49, 50]\n"
          ]
        }
      ],
      "source": [
        "arreglo1 = list(range(10, 51))\n",
        "print(arreglo1)  # [10, 11, 12, ..., 49, 50]"
      ]
    },
    {
      "cell_type": "markdown",
      "metadata": {
        "id": "PlB2-W3oetxU"
      },
      "source": [
        "**Cree un arreglo de los números enteros pares Del 10 al 50 (incluidos)**"
      ]
    },
    {
      "cell_type": "code",
      "execution_count": 5,
      "metadata": {
        "colab": {
          "base_uri": "https://localhost:8080/"
        },
        "id": "4cRPYfjxetxV",
        "outputId": "914b7ecc-cf1a-4e1c-f1f4-ceb23c98a725"
      },
      "outputs": [
        {
          "output_type": "stream",
          "name": "stdout",
          "text": [
            "[10, 12, 14, 16, 18, 20, 22, 24, 26, 28, 30, 32, 34, 36, 38, 40, 42, 44, 46, 48, 50]\n"
          ]
        }
      ],
      "source": [
        "pares = list(range(10, 51, 2))\n",
        "print(pares)"
      ]
    },
    {
      "cell_type": "markdown",
      "metadata": {
        "id": "tH7gVrX_etxV"
      },
      "source": [
        "**Crear una matrix de 3x3 con valores del 0 al 8 (incluido)**"
      ]
    },
    {
      "cell_type": "code",
      "execution_count": 8,
      "metadata": {
        "colab": {
          "base_uri": "https://localhost:8080/"
        },
        "id": "nlwLDlX7etxW",
        "outputId": "28501b4f-ce7f-4c43-fd1b-5013b72b31f8"
      },
      "outputs": [
        {
          "output_type": "stream",
          "name": "stdout",
          "text": [
            "[[0, 1, 2], [3, 4, 5], [6, 7, 8]]\n"
          ]
        }
      ],
      "source": [
        "matriz = [[0, 1, 2],\n",
        "          [3, 4, 5],\n",
        "          [6, 7, 8]]\n",
        "\n",
        "print(matriz)"
      ]
    },
    {
      "cell_type": "markdown",
      "metadata": {
        "id": "jRamHPAuetxW"
      },
      "source": [
        "**Crear la matriz identidad de 3x3**"
      ]
    },
    {
      "cell_type": "code",
      "execution_count": 10,
      "metadata": {
        "colab": {
          "base_uri": "https://localhost:8080/"
        },
        "id": "fwuX4Lw5etxW",
        "outputId": "552c75a2-1598-4697-c95b-bd67d91dd31a"
      },
      "outputs": [
        {
          "output_type": "stream",
          "name": "stdout",
          "text": [
            "[[1. 0. 0.]\n",
            " [0. 1. 0.]\n",
            " [0. 0. 1.]]\n"
          ]
        }
      ],
      "source": [
        "import numpy as np\n",
        "\n",
        "identidad = np.eye(3)\n",
        "print(identidad)"
      ]
    },
    {
      "cell_type": "markdown",
      "metadata": {
        "id": "ZEEVMgTgetxW"
      },
      "source": [
        "**Use NumPy para generar un numero aleatorio entre 0 y 1**"
      ]
    },
    {
      "cell_type": "code",
      "execution_count": 9,
      "metadata": {
        "colab": {
          "base_uri": "https://localhost:8080/"
        },
        "id": "b5PsOvwTetxW",
        "outputId": "bc5f5c08-1070-438a-aa2b-6bf08470c5fe"
      },
      "outputs": [
        {
          "output_type": "stream",
          "name": "stdout",
          "text": [
            "0.4128896298037509\n"
          ]
        }
      ],
      "source": [
        "import numpy as np\n",
        "\n",
        "rng = np.random.default_rng()\n",
        "numero_aleatorio = rng.random()\n",
        "print(numero_aleatorio)"
      ]
    },
    {
      "cell_type": "markdown",
      "metadata": {
        "id": "9vtEoSh_etxX"
      },
      "source": [
        "**Use NumPy para generar un arreglo de 25 números aleatorios que sean de la distribucion normal estandar**"
      ]
    },
    {
      "cell_type": "code",
      "execution_count": 11,
      "metadata": {
        "colab": {
          "base_uri": "https://localhost:8080/"
        },
        "id": "xMYAVpwcetxX",
        "outputId": "f36f9757-1bba-4899-8cdb-cedc53e78899"
      },
      "outputs": [
        {
          "output_type": "stream",
          "name": "stdout",
          "text": [
            "[ 0.2707742  -0.6984356  -1.61447744  0.24820305 -0.13740512 -1.18810465\n",
            "  1.64052547  3.11607152  1.47040657 -0.87044223  0.19175369 -1.55631307\n",
            " -0.6076328  -0.19863061  0.44138136  1.51816965  0.21301195 -0.33834949\n",
            " -1.79837125 -2.45182155  1.38391459  0.6120229   0.44685338 -1.32382795\n",
            " -0.23236782]\n"
          ]
        }
      ],
      "source": [
        "import numpy as np\n",
        "\n",
        "rng = np.random.default_rng()\n",
        "arreglo = rng.standard_normal(25)\n",
        "print(arreglo)"
      ]
    },
    {
      "cell_type": "markdown",
      "metadata": {
        "id": "btoKXXw1etxX"
      },
      "source": [
        "**Cree un arreglo de 20 elementos linealmente espaciados entre 0 y 1:**"
      ]
    },
    {
      "cell_type": "code",
      "execution_count": 12,
      "metadata": {
        "colab": {
          "base_uri": "https://localhost:8080/"
        },
        "id": "jyVnCjX0etxY",
        "outputId": "65528559-29de-470d-b2ad-e4055f4762b9"
      },
      "outputs": [
        {
          "output_type": "stream",
          "name": "stdout",
          "text": [
            "[0.         0.05263158 0.10526316 0.15789474 0.21052632 0.26315789\n",
            " 0.31578947 0.36842105 0.42105263 0.47368421 0.52631579 0.57894737\n",
            " 0.63157895 0.68421053 0.73684211 0.78947368 0.84210526 0.89473684\n",
            " 0.94736842 1.        ]\n"
          ]
        }
      ],
      "source": [
        "import numpy as np\n",
        "\n",
        "arreglo = np.linspace(0, 1, 20)\n",
        "print(arreglo)"
      ]
    },
    {
      "cell_type": "markdown",
      "metadata": {
        "id": "aP9uWy1GetxY"
      },
      "source": [
        "**Indexacion y seleccion con Numpy**\n",
        "\n",
        "Crear una matriz con numeros del 1 al 25 y que tenga forma de 5x5\n",
        "\n"
      ]
    },
    {
      "cell_type": "code",
      "execution_count": 13,
      "metadata": {
        "colab": {
          "base_uri": "https://localhost:8080/"
        },
        "id": "qLZ_XE7vetxY",
        "outputId": "47806983-a5ce-4a30-f559-8bf07190fee1"
      },
      "outputs": [
        {
          "output_type": "stream",
          "name": "stdout",
          "text": [
            "Matriz 5x5:\n",
            "[[ 1  2  3  4  5]\n",
            " [ 6  7  8  9 10]\n",
            " [11 12 13 14 15]\n",
            " [16 17 18 19 20]\n",
            " [21 22 23 24 25]]\n"
          ]
        }
      ],
      "source": [
        "import numpy as np\n",
        "\n",
        "# Crear un arreglo del 1 al 25 y remodelarlo a 5x5\n",
        "matriz = np.arange(1, 26).reshape(5, 5)\n",
        "print(\"Matriz 5x5:\")\n",
        "print(matriz)"
      ]
    },
    {
      "cell_type": "markdown",
      "metadata": {
        "id": "ezUVfRj7etxY"
      },
      "source": [
        "replique los resultados que siguen:\n"
      ]
    },
    {
      "cell_type": "code",
      "execution_count": 20,
      "metadata": {
        "colab": {
          "base_uri": "https://localhost:8080/"
        },
        "id": "CsLgQLtNetxZ",
        "outputId": "04be12dc-1e63-4eaa-8e7a-5657305a3656"
      },
      "outputs": [
        {
          "output_type": "stream",
          "name": "stdout",
          "text": [
            "[[12 13 14 15]\n",
            " [16 17 18 19]\n",
            " [20 21 22 23]]\n"
          ]
        }
      ],
      "source": [
        "import numpy as np\n",
        "\n",
        "# Crear arreglo del 12 al 23 (12 números) y darle forma 3x4\n",
        "matriz = np.arange(12, 24).reshape(3, 4)\n",
        "print(matriz)"
      ]
    },
    {
      "cell_type": "code",
      "execution_count": 21,
      "metadata": {
        "colab": {
          "base_uri": "https://localhost:8080/"
        },
        "id": "yXGOyzgPetxa",
        "outputId": "d26795c2-1da7-4783-d34e-9866bb89e3e9"
      },
      "outputs": [
        {
          "output_type": "stream",
          "name": "stdout",
          "text": [
            "20\n"
          ]
        }
      ],
      "source": [
        "resultado = 5 * 4\n",
        "print(resultado)  # Salida: 20"
      ]
    },
    {
      "cell_type": "code",
      "execution_count": 22,
      "metadata": {
        "colab": {
          "base_uri": "https://localhost:8080/"
        },
        "id": "GP8754PWetxa",
        "outputId": "e428a9f9-eac2-4820-e664-e76beeab7d53"
      },
      "outputs": [
        {
          "output_type": "stream",
          "name": "stdout",
          "text": [
            "13 18 23\n"
          ]
        }
      ],
      "source": [
        "valor1 = matriz[0, 1]   # 2\n",
        "valor2 = matriz[1, 2]   # 7\n",
        "valor3 = matriz[2, 3]   # 12\n",
        "\n",
        "print(valor1, valor2, valor3)  # → 2 7 12"
      ]
    },
    {
      "cell_type": "code",
      "execution_count": 23,
      "metadata": {
        "colab": {
          "base_uri": "https://localhost:8080/"
        },
        "id": "tYajN4UYetxa",
        "outputId": "7137279e-87f6-49fe-e1eb-cfcfdcaa61de"
      },
      "outputs": [
        {
          "output_type": "stream",
          "name": "stdout",
          "text": [
            "[[21 22 23 24 25]]\n"
          ]
        }
      ],
      "source": [
        "import numpy as np\n",
        "\n",
        "matriz = np.arange(21, 26).reshape(1, 5)\n",
        "print(matriz)"
      ]
    },
    {
      "cell_type": "code",
      "execution_count": 24,
      "metadata": {
        "colab": {
          "base_uri": "https://localhost:8080/"
        },
        "id": "ychrNYwketxc",
        "outputId": "818dbd48-09c6-4aad-e0d9-f8d4b6bcc1ea"
      },
      "outputs": [
        {
          "output_type": "stream",
          "name": "stdout",
          "text": [
            "[[16 17 18 19 20]\n",
            " [21 22 23 24 25]]\n"
          ]
        }
      ],
      "source": [
        "import numpy as np\n",
        "\n",
        "matriz = np.arange(16, 26).reshape(2, 5)\n",
        "print(matriz)"
      ]
    },
    {
      "cell_type": "markdown",
      "metadata": {
        "id": "p_TEx8p6etxc"
      },
      "source": [
        "**Obtenga la suma de todos los valores de la matriz**"
      ]
    },
    {
      "cell_type": "code",
      "execution_count": 25,
      "metadata": {
        "colab": {
          "base_uri": "https://localhost:8080/"
        },
        "id": "HH-W7qbvetxc",
        "outputId": "3a15ac73-cc95-4877-c396-f7ed7c8e8eda"
      },
      "outputs": [
        {
          "output_type": "stream",
          "name": "stdout",
          "text": [
            "325\n"
          ]
        }
      ],
      "source": [
        "n = 25\n",
        "resultado = n * (n + 1) // 2\n",
        "print(resultado)  # → 325"
      ]
    },
    {
      "cell_type": "markdown",
      "metadata": {
        "id": "sthlobfjetxc"
      },
      "source": [
        "**Obtenga la desviación estándar de los valores de la matriz**"
      ]
    },
    {
      "cell_type": "code",
      "execution_count": 26,
      "metadata": {
        "colab": {
          "base_uri": "https://localhost:8080/"
        },
        "id": "nHdJkFL5etxd",
        "outputId": "895476ba-7d67-4c18-a01e-602afd649d42"
      },
      "outputs": [
        {
          "output_type": "stream",
          "name": "stdout",
          "text": [
            "7.211102550927978\n"
          ]
        }
      ],
      "source": [
        "import math\n",
        "print(math.sqrt(52))\n",
        "# Salida: 7.211102550927978"
      ]
    },
    {
      "cell_type": "markdown",
      "metadata": {
        "id": "0crFfXoTetxe"
      },
      "source": [
        "**Obtener la suma de cada una de las columnas de la matriz**"
      ]
    },
    {
      "cell_type": "code",
      "execution_count": 27,
      "metadata": {
        "colab": {
          "base_uri": "https://localhost:8080/"
        },
        "id": "LXaLjQh2etxf",
        "outputId": "6c235c12-d442-4cbc-b7d6-6cc63f88d5e4"
      },
      "outputs": [
        {
          "output_type": "stream",
          "name": "stdout",
          "text": [
            "[55 60 65 70 75]\n"
          ]
        }
      ],
      "source": [
        "import numpy as np\n",
        "\n",
        "arr = np.arange(55, 80, 5)  # inicio=55, fin=80 (excluido), paso=5\n",
        "print(arr)\n",
        "# Salida: [55 60 65 70 75]"
      ]
    },
    {
      "cell_type": "markdown",
      "metadata": {
        "id": "wnx7Sdc0etxf"
      },
      "source": [
        "## Referencia\n",
        "\n",
        "https://joserzapata.github.io/courses/python-ciencia-datos/numpy/"
      ]
    }
  ],
  "metadata": {
    "kernelspec": {
      "display_name": "Python 3",
      "language": "python",
      "name": "python3"
    },
    "language_info": {
      "codemirror_mode": {
        "name": "ipython",
        "version": 3
      },
      "file_extension": ".py",
      "mimetype": "text/x-python",
      "name": "python",
      "nbconvert_exporter": "python",
      "pygments_lexer": "ipython3",
      "version": "3.10.13"
    },
    "toc": {
      "base_numbering": 1,
      "nav_menu": {},
      "number_sections": true,
      "sideBar": true,
      "skip_h1_title": false,
      "title_cell": "Contenido",
      "title_sidebar": "Contenido",
      "toc_cell": true,
      "toc_position": {},
      "toc_section_display": true,
      "toc_window_display": false
    },
    "varInspector": {
      "cols": {
        "lenName": 16,
        "lenType": 16,
        "lenVar": 40
      },
      "kernels_config": {
        "python": {
          "delete_cmd_postfix": "",
          "delete_cmd_prefix": "del ",
          "library": "var_list.py",
          "varRefreshCmd": "print(var_dic_list())"
        },
        "r": {
          "delete_cmd_postfix": ") ",
          "delete_cmd_prefix": "rm(",
          "library": "var_list.r",
          "varRefreshCmd": "cat(var_dic_list()) "
        }
      },
      "types_to_exclude": [
        "module",
        "function",
        "builtin_function_or_method",
        "instance",
        "_Feature"
      ],
      "window_display": false
    },
    "colab": {
      "provenance": []
    }
  },
  "nbformat": 4,
  "nbformat_minor": 0
}
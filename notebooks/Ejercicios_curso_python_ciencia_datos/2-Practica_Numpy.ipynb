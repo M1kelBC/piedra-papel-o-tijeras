{
  "cells": [
    {
      "cell_type": "markdown",
      "metadata": {
        "id": "7pwPENtAetxH"
      },
      "source": [
        "# [PRACTICA DE NUMPY](https://joserzapata.github.io/courses/python-ciencia-datos/numpy/)\n",
        "## [Curso Python para Ciencia de datos](https://joserzapata.github.io/courses/python-ciencia-datos/)\n",
        "### Por Jose R. Zapata - https://joserzapata.github.io/"
      ]
    },
    {
      "cell_type": "markdown",
      "metadata": {
        "id": "lB0sLj3IetxJ"
      },
      "source": [
        "<div class=\"alert alert-success\">\n",
        "\n",
        "<b>NOTA:</b> Realizar Primero los ejercicios y luego revisar las soluciones propuestas.\n",
        "\n",
        "[Solucion Ejercicios Numpy - click para abrir](https://joserzapata.github.io/courses/python-ciencia-datos/numpy/2-practica_numpy-solucion/)\n",
        "\n",
        "</div>"
      ]
    },
    {
      "cell_type": "markdown",
      "metadata": {
        "id": "5BsADvGhetxL"
      },
      "source": [
        "Los arreglos de numpy son la base de la computación científica en Python\n",
        "- los dataframes de pandas para análisis de datos (Numpy era la unica base hasta pandas 1.5.3)\n",
        "- los datos de entrada o salida para hacer Machine Learning con scikit-learn son arreglos de numpy\n",
        "\n",
        "**Nota:** Es importante familiarizarse con el manejo de arreglos de numpy para poder hacer ciencia de datos con Python e identificar cuando usar un arreglo de numpy o un dataframe de pandas."
      ]
    },
    {
      "cell_type": "markdown",
      "metadata": {
        "id": "hGiOKPz_etxL"
      },
      "source": [
        "**Importe NumPy como np**"
      ]
    },
    {
      "cell_type": "code",
      "execution_count": 1,
      "metadata": {
        "collapsed": true,
        "colab": {
          "base_uri": "https://localhost:8080/"
        },
        "id": "Ht3N2nz-etxM",
        "outputId": "b4deea06-7b19-441e-9ba1-9cf29bf654d4"
      },
      "outputs": [
        {
          "output_type": "stream",
          "name": "stdout",
          "text": [
            "Media: -0.000\n",
            "Máximo: 1.000\n",
            "Mínimo: -1.000\n",
            "Valores positivos: 49\n",
            "Producto:\n",
            "[[19 22]\n",
            " [43 50]]\n",
            "Determinante de A: -2.0000000000000004\n"
          ]
        }
      ],
      "source": [
        "import numpy as np\n",
        "\n",
        "# Crear datos sintéticos\n",
        "x = np.linspace(0, 2*np.pi, 100)\n",
        "y = np.sin(x)\n",
        "\n",
        "# Operaciones estadísticas\n",
        "media = np.mean(y)\n",
        "maximo = np.max(y)\n",
        "minimo = np.min(y)\n",
        "\n",
        "print(f\"Media: {media:.3f}\")\n",
        "print(f\"Máximo: {maximo:.3f}\")\n",
        "print(f\"Mínimo: {minimo:.3f}\")\n",
        "\n",
        "# Filtrar datos\n",
        "y_positivos = y[y > 0]\n",
        "print(f\"Valores positivos: {len(y_positivos)}\")\n",
        "\n",
        "# Álgebra lineal\n",
        "A = np.array([[1, 2], [3, 4]])\n",
        "B = np.array([[5, 6], [7, 8]])\n",
        "\n",
        "producto = np.dot(A, B)\n",
        "determinante = np.linalg.det(A)\n",
        "\n",
        "print(f\"Producto:\\n{producto}\")\n",
        "print(f\"Determinante de A: {determinante}\")"
      ]
    },
    {
      "cell_type": "markdown",
      "metadata": {
        "id": "im1E--TbetxM"
      },
      "source": [
        "**Cree un arreglo de ceros de 10 elementos**"
      ]
    },
    {
      "cell_type": "code",
      "execution_count": null,
      "metadata": {
        "id": "4bu6d_FbetxS",
        "outputId": "163aadb6-bc7e-4bae-a9bd-b72ecfa5d3a8"
      },
      "outputs": [
        {
          "data": {
            "text/plain": [
              "array([1., 1., 1., 1., 1., 1., 1., 1., 1., 1.])"
            ]
          },
          "execution_count": 5,
          "metadata": {},
          "output_type": "execute_result"
        }
      ],
      "source": [
        "import numpy as np\n",
        "\n",
        "# Con numpy.zeros()\n",
        "arreglo_numpy = np.zeros(10)\n",
        "print(arreglo_numpy)\n",
        "# Resultado: [0. 0. 0. 0. 0. 0. 0. 0. 0. 0.]\n",
        "\n",
        "# Para enteros en lugar de floats\n",
        "arreglo_numpy_int = np.zeros(10, dtype=int)\n",
        "print(arreglo_numpy_int)\n",
        "# Resultado: [0 0 0 0 0 0 0 0 0 0]"
      ]
    },
    {
      "cell_type": "markdown",
      "metadata": {
        "id": "vPb_vnu8etxS"
      },
      "source": [
        "**Cree un arreglo de cincos de 10 elementos**"
      ]
    },
    {
      "cell_type": "code",
      "execution_count": null,
      "metadata": {
        "id": "Bne9PFSvetxT"
      },
      "outputs": [],
      "source": [
        "# Copie su código aqui"
      ]
    },
    {
      "cell_type": "code",
      "execution_count": null,
      "metadata": {
        "id": "sP8YtjgIetxT",
        "outputId": "0564a7f1-60ab-47ca-f366-f5abcdde731a"
      },
      "outputs": [
        {
          "data": {
            "text/plain": [
              "array([5., 5., 5., 5., 5., 5., 5., 5., 5., 5.])"
            ]
          },
          "execution_count": 7,
          "metadata": {},
          "output_type": "execute_result"
        }
      ],
      "source": [
        "arreglo_cincos = [5] * 10\n",
        "print(arreglo_cincos)  # [5, 5, 5, 5, 5, 5, 5, 5, 5, 5]"
      ]
    },
    {
      "cell_type": "markdown",
      "metadata": {
        "id": "p4FBH5Q8etxT"
      },
      "source": [
        "**Cree un arreglo de números enteros Del 10 al 50 (incluido)**"
      ]
    },
    {
      "cell_type": "code",
      "execution_count": null,
      "metadata": {
        "id": "PWfO9kW8etxU"
      },
      "outputs": [],
      "source": [
        "# Copie su código aqui"
      ]
    },
    {
      "cell_type": "code",
      "execution_count": 4,
      "metadata": {
        "colab": {
          "base_uri": "https://localhost:8080/"
        },
        "id": "GlNB7ie_etxU",
        "outputId": "ca63b34c-5ede-494d-aeb1-ebc710568b0c"
      },
      "outputs": [
        {
          "output_type": "stream",
          "name": "stdout",
          "text": [
            "[10, 11, 12, 13, 14, 15, 16, 17, 18, 19, 20, 21, 22, 23, 24, 25, 26, 27, 28, 29, 30, 31, 32, 33, 34, 35, 36, 37, 38, 39, 40, 41, 42, 43, 44, 45, 46, 47, 48, 49, 50]\n"
          ]
        }
      ],
      "source": [
        "arreglo1 = list(range(10, 51))\n",
        "print(arreglo1)  # [10, 11, 12, ..., 49, 50]"
      ]
    },
    {
      "cell_type": "markdown",
      "metadata": {
        "id": "PlB2-W3oetxU"
      },
      "source": [
        "**Cree un arreglo de los números enteros pares Del 10 al 50 (incluidos)**"
      ]
    },
    {
      "cell_type": "code",
      "execution_count": null,
      "metadata": {
        "id": "Ypl1VU2metxV"
      },
      "outputs": [],
      "source": [
        "# Copie su código aqui"
      ]
    },
    {
      "cell_type": "code",
      "execution_count": null,
      "metadata": {
        "id": "4cRPYfjxetxV",
        "outputId": "a2571f0e-64e1-403e-cf82-18e49257c37f"
      },
      "outputs": [
        {
          "data": {
            "text/plain": [
              "array([10, 12, 14, 16, 18, 20, 22, 24, 26, 28, 30, 32, 34, 36, 38, 40, 42,\n",
              "       44, 46, 48, 50])"
            ]
          },
          "execution_count": 11,
          "metadata": {},
          "output_type": "execute_result"
        }
      ],
      "source": []
    },
    {
      "cell_type": "markdown",
      "metadata": {
        "id": "tH7gVrX_etxV"
      },
      "source": [
        "**Crear una matrix de 3x3 con valores del 0 al 8 (incluido)**"
      ]
    },
    {
      "cell_type": "code",
      "execution_count": null,
      "metadata": {
        "id": "AVQpcpi_etxV"
      },
      "outputs": [],
      "source": [
        "# Copie su código aqui"
      ]
    },
    {
      "cell_type": "code",
      "execution_count": null,
      "metadata": {
        "id": "nlwLDlX7etxW",
        "outputId": "de7d9601-90f9-4164-b7d2-1be6fd5857df"
      },
      "outputs": [
        {
          "data": {
            "text/plain": [
              "array([[0, 1, 2],\n",
              "       [3, 4, 5],\n",
              "       [6, 7, 8]])"
            ]
          },
          "execution_count": 13,
          "metadata": {},
          "output_type": "execute_result"
        }
      ],
      "source": []
    },
    {
      "cell_type": "markdown",
      "metadata": {
        "id": "jRamHPAuetxW"
      },
      "source": [
        "**Crear la matriz identidad de 3x3**"
      ]
    },
    {
      "cell_type": "code",
      "execution_count": null,
      "metadata": {
        "id": "z1GSDVIZetxW"
      },
      "outputs": [],
      "source": [
        "# Copie su código aqui"
      ]
    },
    {
      "cell_type": "code",
      "execution_count": null,
      "metadata": {
        "id": "fwuX4Lw5etxW",
        "outputId": "42d1cb95-1028-4815-cc83-7dde733cd670"
      },
      "outputs": [
        {
          "data": {
            "text/plain": [
              "array([[1., 0., 0.],\n",
              "       [0., 1., 0.],\n",
              "       [0., 0., 1.]])"
            ]
          },
          "execution_count": 15,
          "metadata": {},
          "output_type": "execute_result"
        }
      ],
      "source": []
    },
    {
      "cell_type": "markdown",
      "metadata": {
        "id": "ZEEVMgTgetxW"
      },
      "source": [
        "**Use NumPy para generar un numero aleatorio entre 0 y 1**"
      ]
    },
    {
      "cell_type": "code",
      "execution_count": null,
      "metadata": {
        "id": "W8sMl-QdetxW"
      },
      "outputs": [],
      "source": [
        "# Copie su código aqui"
      ]
    },
    {
      "cell_type": "code",
      "execution_count": null,
      "metadata": {
        "id": "b5PsOvwTetxW",
        "outputId": "fcd7b420-01e4-4133-ef12-be85ceaad258"
      },
      "outputs": [
        {
          "data": {
            "text/plain": [
              "array([0.2369713])"
            ]
          },
          "execution_count": 17,
          "metadata": {},
          "output_type": "execute_result"
        }
      ],
      "source": []
    },
    {
      "cell_type": "markdown",
      "metadata": {
        "id": "9vtEoSh_etxX"
      },
      "source": [
        "**Use NumPy para generar un arreglo de 25 números aleatorios que sean de la distribucion normal estandar**"
      ]
    },
    {
      "cell_type": "code",
      "execution_count": null,
      "metadata": {
        "id": "dCOwXsNYetxX"
      },
      "outputs": [],
      "source": [
        "# Copie su código aqui"
      ]
    },
    {
      "cell_type": "code",
      "execution_count": null,
      "metadata": {
        "id": "xMYAVpwcetxX",
        "outputId": "7793f49c-930c-4176-90cf-c329ceaa4ff9"
      },
      "outputs": [
        {
          "data": {
            "text/plain": [
              "array([-1.82518925,  0.35985968,  0.7908014 ,  1.09115394, -1.18145353,\n",
              "       -0.38358405, -0.1049287 ,  1.27313964,  0.05365275, -0.63835531,\n",
              "        0.4984666 , -1.60464831, -0.84688945,  0.4695778 ,  1.73142269,\n",
              "       -1.63808225, -0.67171648, -0.14015625,  0.50828476,  0.60145966,\n",
              "       -0.34493194,  0.09632452, -0.85907492, -0.46924336,  1.22406872])"
            ]
          },
          "execution_count": 19,
          "metadata": {},
          "output_type": "execute_result"
        }
      ],
      "source": []
    },
    {
      "cell_type": "markdown",
      "metadata": {
        "id": "btoKXXw1etxX"
      },
      "source": [
        "**Cree un arreglo de 20 elementos linealmente espaciados entre 0 y 1:**"
      ]
    },
    {
      "cell_type": "code",
      "execution_count": null,
      "metadata": {
        "id": "Aww437dRetxX"
      },
      "outputs": [],
      "source": [
        "# Copie su código aqui"
      ]
    },
    {
      "cell_type": "code",
      "execution_count": null,
      "metadata": {
        "id": "jyVnCjX0etxY",
        "outputId": "63c33766-fe30-4db0-8e21-49c3b86133cd"
      },
      "outputs": [
        {
          "data": {
            "text/plain": [
              "array([0.        , 0.05263158, 0.10526316, 0.15789474, 0.21052632,\n",
              "       0.26315789, 0.31578947, 0.36842105, 0.42105263, 0.47368421,\n",
              "       0.52631579, 0.57894737, 0.63157895, 0.68421053, 0.73684211,\n",
              "       0.78947368, 0.84210526, 0.89473684, 0.94736842, 1.        ])"
            ]
          },
          "execution_count": 21,
          "metadata": {},
          "output_type": "execute_result"
        }
      ],
      "source": []
    },
    {
      "cell_type": "markdown",
      "metadata": {
        "id": "aP9uWy1GetxY"
      },
      "source": [
        "**Indexacion y seleccion con Numpy**\n",
        "\n",
        "Crear una matriz con numeros del 1 al 25 y que tenga forma de 5x5\n",
        "\n"
      ]
    },
    {
      "cell_type": "code",
      "execution_count": null,
      "metadata": {
        "id": "DsVY9z6CetxY"
      },
      "outputs": [],
      "source": [
        "# Copie su código aqui\n"
      ]
    },
    {
      "cell_type": "code",
      "execution_count": null,
      "metadata": {
        "id": "qLZ_XE7vetxY",
        "outputId": "f54c28a4-4628-45ae-cf04-a2716e43da0f"
      },
      "outputs": [
        {
          "data": {
            "text/plain": [
              "array([[ 1,  2,  3,  4,  5],\n",
              "       [ 6,  7,  8,  9, 10],\n",
              "       [11, 12, 13, 14, 15],\n",
              "       [16, 17, 18, 19, 20],\n",
              "       [21, 22, 23, 24, 25]])"
            ]
          },
          "execution_count": 23,
          "metadata": {},
          "output_type": "execute_result"
        }
      ],
      "source": []
    },
    {
      "cell_type": "markdown",
      "metadata": {
        "id": "ezUVfRj7etxY"
      },
      "source": [
        "replique los resultados que siguen:\n"
      ]
    },
    {
      "cell_type": "code",
      "execution_count": null,
      "metadata": {
        "id": "6YX36uTnetxZ"
      },
      "outputs": [],
      "source": [
        "# Copie su código aqui"
      ]
    },
    {
      "cell_type": "code",
      "execution_count": null,
      "metadata": {
        "id": "CsLgQLtNetxZ",
        "outputId": "24b58913-f83a-4e26-9c53-4e73cb82fcf8"
      },
      "outputs": [
        {
          "data": {
            "text/plain": [
              "array([[12, 13, 14, 15],\n",
              "       [17, 18, 19, 20],\n",
              "       [22, 23, 24, 25]])"
            ]
          },
          "execution_count": 25,
          "metadata": {},
          "output_type": "execute_result"
        }
      ],
      "source": []
    },
    {
      "cell_type": "code",
      "execution_count": null,
      "metadata": {
        "id": "s7NFoZeoetxZ"
      },
      "outputs": [],
      "source": [
        "# Copie su código aqui"
      ]
    },
    {
      "cell_type": "code",
      "execution_count": null,
      "metadata": {
        "id": "yXGOyzgPetxa",
        "outputId": "62e82f29-e260-4da3-d1e0-f710dab8a8ca"
      },
      "outputs": [
        {
          "data": {
            "text/plain": [
              "20"
            ]
          },
          "execution_count": 27,
          "metadata": {},
          "output_type": "execute_result"
        }
      ],
      "source": []
    },
    {
      "cell_type": "code",
      "execution_count": null,
      "metadata": {
        "id": "fsMl2Weyetxa"
      },
      "outputs": [],
      "source": [
        "# Copie su código aqui"
      ]
    },
    {
      "cell_type": "code",
      "execution_count": null,
      "metadata": {
        "id": "GP8754PWetxa",
        "outputId": "cd6321b3-f5b3-4906-c680-9a3cce965483"
      },
      "outputs": [
        {
          "data": {
            "text/plain": [
              "array([[ 2],\n",
              "       [ 7],\n",
              "       [12]])"
            ]
          },
          "execution_count": 29,
          "metadata": {},
          "output_type": "execute_result"
        }
      ],
      "source": []
    },
    {
      "cell_type": "code",
      "execution_count": null,
      "metadata": {
        "id": "Dd2j9tJletxa"
      },
      "outputs": [],
      "source": [
        "# Copie su código aqui"
      ]
    },
    {
      "cell_type": "code",
      "execution_count": null,
      "metadata": {
        "id": "tYajN4UYetxa",
        "outputId": "18b96e3a-b305-4af8-ab06-111c1fdaf717"
      },
      "outputs": [
        {
          "data": {
            "text/plain": [
              "array([21, 22, 23, 24, 25])"
            ]
          },
          "execution_count": 31,
          "metadata": {},
          "output_type": "execute_result"
        }
      ],
      "source": []
    },
    {
      "cell_type": "code",
      "execution_count": null,
      "metadata": {
        "id": "KZQdFDusetxb"
      },
      "outputs": [],
      "source": [
        "# Copie su código aqui"
      ]
    },
    {
      "cell_type": "code",
      "execution_count": null,
      "metadata": {
        "id": "ychrNYwketxc",
        "outputId": "2d5d455a-4afc-4e02-bea2-75dcd1b1566f"
      },
      "outputs": [
        {
          "data": {
            "text/plain": [
              "array([[16, 17, 18, 19, 20],\n",
              "       [21, 22, 23, 24, 25]])"
            ]
          },
          "execution_count": 33,
          "metadata": {},
          "output_type": "execute_result"
        }
      ],
      "source": []
    },
    {
      "cell_type": "markdown",
      "metadata": {
        "id": "p_TEx8p6etxc"
      },
      "source": [
        "**Obtenga la suma de todos los valores de la matriz**"
      ]
    },
    {
      "cell_type": "code",
      "execution_count": null,
      "metadata": {
        "id": "DKo68PoOetxc"
      },
      "outputs": [],
      "source": [
        "# Copie su código aqui"
      ]
    },
    {
      "cell_type": "code",
      "execution_count": null,
      "metadata": {
        "id": "HH-W7qbvetxc",
        "outputId": "3405fc66-a305-4dc0-ecf0-01fc68ee8cef"
      },
      "outputs": [
        {
          "data": {
            "text/plain": [
              "325"
            ]
          },
          "execution_count": 35,
          "metadata": {},
          "output_type": "execute_result"
        }
      ],
      "source": []
    },
    {
      "cell_type": "markdown",
      "metadata": {
        "id": "sthlobfjetxc"
      },
      "source": [
        "**Obtenga la desviación estándar de los valores de la matriz**"
      ]
    },
    {
      "cell_type": "code",
      "execution_count": null,
      "metadata": {
        "id": "5aAYdCVcetxd"
      },
      "outputs": [],
      "source": [
        "# Copie su código aqui"
      ]
    },
    {
      "cell_type": "code",
      "execution_count": null,
      "metadata": {
        "id": "nHdJkFL5etxd",
        "outputId": "6d23a1ba-5fb2-497e-ae61-92c923edb3dd"
      },
      "outputs": [
        {
          "data": {
            "text/plain": [
              "7.211102550927978"
            ]
          },
          "execution_count": 37,
          "metadata": {},
          "output_type": "execute_result"
        }
      ],
      "source": []
    },
    {
      "cell_type": "markdown",
      "metadata": {
        "id": "0crFfXoTetxe"
      },
      "source": [
        "**Obtener la suma de cada una de las columnas de la matriz**"
      ]
    },
    {
      "cell_type": "code",
      "execution_count": null,
      "metadata": {
        "id": "0XvwUI5letxe"
      },
      "outputs": [],
      "source": [
        "# Copie su código aqui"
      ]
    },
    {
      "cell_type": "code",
      "execution_count": null,
      "metadata": {
        "id": "LXaLjQh2etxf",
        "outputId": "690285c6-222e-4bf3-d68d-fae4ccacf928"
      },
      "outputs": [
        {
          "data": {
            "text/plain": [
              "array([55, 60, 65, 70, 75])"
            ]
          },
          "execution_count": 39,
          "metadata": {},
          "output_type": "execute_result"
        }
      ],
      "source": []
    },
    {
      "cell_type": "markdown",
      "metadata": {
        "id": "wnx7Sdc0etxf"
      },
      "source": [
        "## Referencia\n",
        "\n",
        "https://joserzapata.github.io/courses/python-ciencia-datos/numpy/"
      ]
    }
  ],
  "metadata": {
    "kernelspec": {
      "display_name": "Python 3",
      "language": "python",
      "name": "python3"
    },
    "language_info": {
      "codemirror_mode": {
        "name": "ipython",
        "version": 3
      },
      "file_extension": ".py",
      "mimetype": "text/x-python",
      "name": "python",
      "nbconvert_exporter": "python",
      "pygments_lexer": "ipython3",
      "version": "3.10.13"
    },
    "toc": {
      "base_numbering": 1,
      "nav_menu": {},
      "number_sections": true,
      "sideBar": true,
      "skip_h1_title": false,
      "title_cell": "Contenido",
      "title_sidebar": "Contenido",
      "toc_cell": true,
      "toc_position": {},
      "toc_section_display": true,
      "toc_window_display": false
    },
    "varInspector": {
      "cols": {
        "lenName": 16,
        "lenType": 16,
        "lenVar": 40
      },
      "kernels_config": {
        "python": {
          "delete_cmd_postfix": "",
          "delete_cmd_prefix": "del ",
          "library": "var_list.py",
          "varRefreshCmd": "print(var_dic_list())"
        },
        "r": {
          "delete_cmd_postfix": ") ",
          "delete_cmd_prefix": "rm(",
          "library": "var_list.r",
          "varRefreshCmd": "cat(var_dic_list()) "
        }
      },
      "types_to_exclude": [
        "module",
        "function",
        "builtin_function_or_method",
        "instance",
        "_Feature"
      ],
      "window_display": false
    },
    "colab": {
      "provenance": []
    }
  },
  "nbformat": 4,
  "nbformat_minor": 0
}